{
 "cells": [
  {
   "attachments": {},
   "cell_type": "markdown",
   "metadata": {},
   "source": [
    "## Exploration"
   ]
  },
  {
   "cell_type": "code",
   "execution_count": 1,
   "metadata": {
    "execution": {
     "iopub.execute_input": "2025-04-06T23:59:06.256030Z",
     "iopub.status.busy": "2025-04-06T23:59:06.256030Z",
     "iopub.status.idle": "2025-04-06T23:59:20.633807Z",
     "shell.execute_reply": "2025-04-06T23:59:20.633807Z",
     "shell.execute_reply.started": "2025-04-06T23:59:06.256030Z"
    }
   },
   "outputs": [
    {
     "name": "stdout",
     "output_type": "stream",
     "text": [
      "train.csv shape is  (1697533, 6)\n",
      "test.csv shape is  (212192, 2)\n",
      "\n",
      "        Id   ProductId          UserId  \\\n",
      "0   914403  B0009W5KHM   AV6QDP8Q0ONK4   \n",
      "1   354887  6303079709  A2I8RXJN80A2D2   \n",
      "2  1407653  B004H0M2XC  A3FHV3RV8Z12E6   \n",
      "3  1377458  B003ZJ9536  A12VLTA3ZHVPUY   \n",
      "4   475323  630574453X  A13NM1PES9OXVN   \n",
      "\n",
      "                                         Summary  \\\n",
      "0                                  GOOD FUN FILM   \n",
      "1                                   Movie Review   \n",
      "2             When is it a good time to Consent?   \n",
      "3                                          TRUTH   \n",
      "4  Intelligent and bittersweet -- stays with you   \n",
      "\n",
      "                                                Text  Score  \n",
      "0  While most straight to DVD films are not worth...    5.0  \n",
      "1  I have wanted this one for sometime, also.  I ...    5.0  \n",
      "2  Actually this was a pretty darn good indie fil...    4.0  \n",
      "3  Episodes 37 to 72 of the series press on in a ...    5.0  \n",
      "4  I was really impressed with this movie, but wa...    3.0  \n",
      "\n",
      "        Id  Score\n",
      "0  1323432    NaN\n",
      "1  1137299    NaN\n",
      "2  1459366    NaN\n",
      "3   931601    NaN\n",
      "4  1311995    NaN\n",
      "\n",
      "                 Id         Score\n",
      "count  1.697533e+06  1.485341e+06\n",
      "mean   8.487660e+05  4.110517e+00\n",
      "std    4.900357e+05  1.197651e+00\n",
      "min    0.000000e+00  1.000000e+00\n",
      "25%    4.243830e+05  4.000000e+00\n",
      "50%    8.487660e+05  5.000000e+00\n",
      "75%    1.273149e+06  5.000000e+00\n",
      "max    1.697532e+06  5.000000e+00\n"
     ]
    },
    {
     "data": {
      "image/png": "[encoded data removed]",
      "text/plain": [
       "<Figure size 640x480 with 1 Axes>"
      ]
     },
     "metadata": {},
     "output_type": "display_data"
    }
   ],
   "source": [
    "import pandas as pd\n",
    "import matplotlib.pyplot as plt\n",
    "\n",
    "trainingSet = pd.read_csv(\"./data/train.csv\")\n",
    "testingSet = pd.read_csv(\"./data/test.csv\")\n",
    "\n",
    "print(\"train.csv shape is \", trainingSet.shape)\n",
    "print(\"test.csv shape is \", testingSet.shape)\n",
    "\n",
    "print()\n",
    "\n",
    "print(trainingSet.head())\n",
    "print()\n",
    "print(testingSet.head())\n",
    "\n",
    "print()\n",
    "\n",
    "print(trainingSet.describe())\n",
    "\n",
    "trainingSet['Score'].value_counts().plot(kind='bar', legend=True, alpha=.5)\n",
    "plt.title(\"Count of Scores\")\n",
    "plt.show()"
   ]
  },
  {
   "cell_type": "code",
   "execution_count": 2,
   "metadata": {
    "execution": {
     "iopub.execute_input": "2025-04-06T23:59:20.636308Z",
     "iopub.status.busy": "2025-04-06T23:59:20.634804Z",
     "iopub.status.idle": "2025-04-06T23:59:20.664990Z",
     "shell.execute_reply": "2025-04-06T23:59:20.663995Z",
     "shell.execute_reply.started": "2025-04-06T23:59:20.636308Z"
    }
   },
   "outputs": [],
   "source": [
    "test_ids = list(testingSet['Id'])"
   ]
  },
  {
   "cell_type": "code",
   "execution_count": 3,
   "metadata": {
    "execution": {
     "iopub.execute_input": "2025-04-06T23:59:20.665989Z",
     "iopub.status.busy": "2025-04-06T23:59:20.664990Z",
     "iopub.status.idle": "2025-04-06T23:59:20.818469Z",
     "shell.execute_reply": "2025-04-06T23:59:20.817869Z",
     "shell.execute_reply.started": "2025-04-06T23:59:20.665989Z"
    }
   },
   "outputs": [],
   "source": [
    "test_df = trainingSet[trainingSet['Id'].isin(test_ids)].reset_index().drop(columns='index')"
   ]
  },
  {
   "cell_type": "code",
   "execution_count": 4,
   "metadata": {
    "execution": {
     "iopub.execute_input": "2025-04-06T23:59:20.820471Z",
     "iopub.status.busy": "2025-04-06T23:59:20.819471Z",
     "iopub.status.idle": "2025-04-06T23:59:20.833221Z",
     "shell.execute_reply": "2025-04-06T23:59:20.833221Z",
     "shell.execute_reply.started": "2025-04-06T23:59:20.820471Z"
    }
   },
   "outputs": [
    {
     "data": {
      "text/html": [
       "<div>\n",
       "<style scoped>\n",
       "    .dataframe tbody tr th:only-of-type {\n",
       "        vertical-align: middle;\n",
       "    }\n",
       "\n",
       "    .dataframe tbody tr th {\n",
       "        vertical-align: top;\n",
       "    }\n",
       "\n",
       "    .dataframe thead th {\n",
       "        text-align: right;\n",
       "    }\n",
       "</style>\n",
       "<table border=\"1\" class=\"dataframe\">\n",
       "  <thead>\n",
       "    <tr style=\"text-align: right;\">\n",
       "      <th></th>\n",
       "      <th>Id</th>\n",
       "      <th>ProductId</th>\n",
       "      <th>UserId</th>\n",
       "      <th>Summary</th>\n",
       "      <th>Text</th>\n",
       "      <th>Score</th>\n",
       "    </tr>\n",
       "  </thead>\n",
       "  <tbody>\n",
       "    <tr>\n",
       "      <th>0</th>\n",
       "      <td>1323432</td>\n",
       "      <td>B0034G4P30</td>\n",
       "      <td>A120UTHQDQIJGH</td>\n",
       "      <td>Okay for a rental</td>\n",
       "      <td>This movie was just alright for me. I think pe...</td>\n",
       "      <td>NaN</td>\n",
       "    </tr>\n",
       "    <tr>\n",
       "      <th>1</th>\n",
       "      <td>1137299</td>\n",
       "      <td>B0012IWO0I</td>\n",
       "      <td>A3SJBFCTJWBFT2</td>\n",
       "      <td>Great for kids</td>\n",
       "      <td>My kids love this movie.  Exciting and fun to ...</td>\n",
       "      <td>NaN</td>\n",
       "    </tr>\n",
       "    <tr>\n",
       "      <th>2</th>\n",
       "      <td>1459366</td>\n",
       "      <td>B005FUTBSC</td>\n",
       "      <td>A1V6FRU7EXP6N9</td>\n",
       "      <td>good movie</td>\n",
       "      <td>The effects were good, not the best but far fr...</td>\n",
       "      <td>NaN</td>\n",
       "    </tr>\n",
       "    <tr>\n",
       "      <th>3</th>\n",
       "      <td>931601</td>\n",
       "      <td>B000AREXBU</td>\n",
       "      <td>ARXDDR76Z5Q2I</td>\n",
       "      <td>Excellent quality dvd.  Don't pay big bucks fo...</td>\n",
       "      <td>I just got a copy of this S. Korean dvd of \"He...</td>\n",
       "      <td>NaN</td>\n",
       "    </tr>\n",
       "    <tr>\n",
       "      <th>4</th>\n",
       "      <td>1311995</td>\n",
       "      <td>B002ZG99B8</td>\n",
       "      <td>A2XAS9GVZL3B1</td>\n",
       "      <td>A mixed review</td>\n",
       "      <td>OK, to put this clearly and bluntly... if you ...</td>\n",
       "      <td>NaN</td>\n",
       "    </tr>\n",
       "  </tbody>\n",
       "</table>\n",
       "</div>"
      ],
      "text/plain": [
       "        Id   ProductId          UserId  \\\n",
       "0  1323432  B0034G4P30  A120UTHQDQIJGH   \n",
       "1  1137299  B0012IWO0I  A3SJBFCTJWBFT2   \n",
       "2  1459366  B005FUTBSC  A1V6FRU7EXP6N9   \n",
       "3   931601  B000AREXBU   ARXDDR76Z5Q2I   \n",
       "4  1311995  B002ZG99B8   A2XAS9GVZL3B1   \n",
       "\n",
       "                                             Summary  \\\n",
       "0                                  Okay for a rental   \n",
       "1                                     Great for kids   \n",
       "2                                         good movie   \n",
       "3  Excellent quality dvd.  Don't pay big bucks fo...   \n",
       "4                                     A mixed review   \n",
       "\n",
       "                                                Text  Score  \n",
       "0  This movie was just alright for me. I think pe...    NaN  \n",
       "1  My kids love this movie.  Exciting and fun to ...    NaN  \n",
       "2  The effects were good, not the best but far fr...    NaN  \n",
       "3  I just got a copy of this S. Korean dvd of \"He...    NaN  \n",
       "4  OK, to put this clearly and bluntly... if you ...    NaN  "
      ]
     },
     "execution_count": 4,
     "metadata": {},
     "output_type": "execute_result"
    }
   ],
   "source": [
    "test_df.head()"
   ]
  },
  {
   "cell_type": "code",
   "execution_count": 5,
   "metadata": {
    "execution": {
     "iopub.execute_input": "2025-04-06T23:59:24.302182Z",
     "iopub.status.busy": "2025-04-06T23:59:24.302182Z",
     "iopub.status.idle": "2025-04-06T23:59:24.369975Z",
     "shell.execute_reply": "2025-04-06T23:59:24.369324Z",
     "shell.execute_reply.started": "2025-04-06T23:59:24.302182Z"
    }
   },
   "outputs": [
    {
     "data": {
      "text/plain": [
       "Id           0\n",
       "ProductId    0\n",
       "UserId       0\n",
       "Summary      4\n",
       "Text         8\n",
       "dtype: int64"
      ]
     },
     "execution_count": 5,
     "metadata": {},
     "output_type": "execute_result"
    }
   ],
   "source": [
    "test_df = test_df.drop(columns='Score')\n",
    "test_df.isna().sum()"
   ]
  },
  {
   "cell_type": "code",
   "execution_count": 7,
   "metadata": {
    "execution": {
     "iopub.execute_input": "2025-04-06T23:59:31.219865Z",
     "iopub.status.busy": "2025-04-06T23:59:31.219219Z",
     "iopub.status.idle": "2025-04-06T23:59:31.316006Z",
     "shell.execute_reply": "2025-04-06T23:59:31.316006Z",
     "shell.execute_reply.started": "2025-04-06T23:59:31.219865Z"
    }
   },
   "outputs": [
    {
     "data": {
      "text/plain": [
       "Id           0\n",
       "ProductId    0\n",
       "UserId       0\n",
       "Summary      0\n",
       "Text         0\n",
       "dtype: int64"
      ]
     },
     "execution_count": 7,
     "metadata": {},
     "output_type": "execute_result"
    }
   ],
   "source": [
    "test_df['Text'].fillna(\"\", inplace=True)\n",
    "test_df['Summary'].fillna(\"\", inplace=True)\n",
    "test_df.isna().sum()"
   ]
  },
  {
   "cell_type": "code",
   "execution_count": 12,
   "metadata": {
    "execution": {
     "iopub.execute_input": "2025-04-07T00:01:49.442281Z",
     "iopub.status.busy": "2025-04-07T00:01:49.442281Z",
     "iopub.status.idle": "2025-04-07T00:01:49.596109Z",
     "shell.execute_reply": "2025-04-07T00:01:49.595110Z",
     "shell.execute_reply.started": "2025-04-07T00:01:49.442281Z"
    }
   },
   "outputs": [],
   "source": [
    "test_df['Summary and Text'] = test_df['Summary'].astype(str) + test_df['Text'].astype(str)"
   ]
  },
  {
   "cell_type": "code",
   "execution_count": 13,
   "metadata": {
    "execution": {
     "iopub.execute_input": "2025-04-07T00:02:07.182775Z",
     "iopub.status.busy": "2025-04-07T00:02:07.182775Z",
     "iopub.status.idle": "2025-04-07T00:02:07.718289Z",
     "shell.execute_reply": "2025-04-07T00:02:07.717787Z",
     "shell.execute_reply.started": "2025-04-07T00:02:07.182775Z"
    }
   },
   "outputs": [],
   "source": [
    "train_df = trainingSet[~trainingSet['Id'].isin(test_ids)].reset_index().drop(columns='index')"
   ]
  },
  {
   "cell_type": "code",
   "execution_count": 14,
   "metadata": {
    "execution": {
     "iopub.execute_input": "2025-04-07T00:02:11.923884Z",
     "iopub.status.busy": "2025-04-07T00:02:11.922885Z",
     "iopub.status.idle": "2025-04-07T00:02:11.933508Z",
     "shell.execute_reply": "2025-04-07T00:02:11.933508Z",
     "shell.execute_reply.started": "2025-04-07T00:02:11.923884Z"
    }
   },
   "outputs": [
    {
     "data": {
      "text/html": [
       "<div>\n",
       "<style scoped>\n",
       "    .dataframe tbody tr th:only-of-type {\n",
       "        vertical-align: middle;\n",
       "    }\n",
       "\n",
       "    .dataframe tbody tr th {\n",
       "        vertical-align: top;\n",
       "    }\n",
       "\n",
       "    .dataframe thead th {\n",
       "        text-align: right;\n",
       "    }\n",
       "</style>\n",
       "<table border=\"1\" class=\"dataframe\">\n",
       "  <thead>\n",
       "    <tr style=\"text-align: right;\">\n",
       "      <th></th>\n",
       "      <th>Id</th>\n",
       "      <th>ProductId</th>\n",
       "      <th>UserId</th>\n",
       "      <th>Summary</th>\n",
       "      <th>Text</th>\n",
       "      <th>Score</th>\n",
       "    </tr>\n",
       "  </thead>\n",
       "  <tbody>\n",
       "    <tr>\n",
       "      <th>0</th>\n",
       "      <td>914403</td>\n",
       "      <td>B0009W5KHM</td>\n",
       "      <td>AV6QDP8Q0ONK4</td>\n",
       "      <td>GOOD FUN FILM</td>\n",
       "      <td>While most straight to DVD films are not worth...</td>\n",
       "      <td>5.0</td>\n",
       "    </tr>\n",
       "    <tr>\n",
       "      <th>1</th>\n",
       "      <td>354887</td>\n",
       "      <td>6303079709</td>\n",
       "      <td>A2I8RXJN80A2D2</td>\n",
       "      <td>Movie Review</td>\n",
       "      <td>I have wanted this one for sometime, also.  I ...</td>\n",
       "      <td>5.0</td>\n",
       "    </tr>\n",
       "    <tr>\n",
       "      <th>2</th>\n",
       "      <td>1407653</td>\n",
       "      <td>B004H0M2XC</td>\n",
       "      <td>A3FHV3RV8Z12E6</td>\n",
       "      <td>When is it a good time to Consent?</td>\n",
       "      <td>Actually this was a pretty darn good indie fil...</td>\n",
       "      <td>4.0</td>\n",
       "    </tr>\n",
       "    <tr>\n",
       "      <th>3</th>\n",
       "      <td>1377458</td>\n",
       "      <td>B003ZJ9536</td>\n",
       "      <td>A12VLTA3ZHVPUY</td>\n",
       "      <td>TRUTH</td>\n",
       "      <td>Episodes 37 to 72 of the series press on in a ...</td>\n",
       "      <td>5.0</td>\n",
       "    </tr>\n",
       "    <tr>\n",
       "      <th>4</th>\n",
       "      <td>475323</td>\n",
       "      <td>630574453X</td>\n",
       "      <td>A13NM1PES9OXVN</td>\n",
       "      <td>Intelligent and bittersweet -- stays with you</td>\n",
       "      <td>I was really impressed with this movie, but wa...</td>\n",
       "      <td>3.0</td>\n",
       "    </tr>\n",
       "  </tbody>\n",
       "</table>\n",
       "</div>"
      ],
      "text/plain": [
       "        Id   ProductId          UserId  \\\n",
       "0   914403  B0009W5KHM   AV6QDP8Q0ONK4   \n",
       "1   354887  6303079709  A2I8RXJN80A2D2   \n",
       "2  1407653  B004H0M2XC  A3FHV3RV8Z12E6   \n",
       "3  1377458  B003ZJ9536  A12VLTA3ZHVPUY   \n",
       "4   475323  630574453X  A13NM1PES9OXVN   \n",
       "\n",
       "                                         Summary  \\\n",
       "0                                  GOOD FUN FILM   \n",
       "1                                   Movie Review   \n",
       "2             When is it a good time to Consent?   \n",
       "3                                          TRUTH   \n",
       "4  Intelligent and bittersweet -- stays with you   \n",
       "\n",
       "                                                Text  Score  \n",
       "0  While most straight to DVD films are not worth...    5.0  \n",
       "1  I have wanted this one for sometime, also.  I ...    5.0  \n",
       "2  Actually this was a pretty darn good indie fil...    4.0  \n",
       "3  Episodes 37 to 72 of the series press on in a ...    5.0  \n",
       "4  I was really impressed with this movie, but wa...    3.0  "
      ]
     },
     "execution_count": 14,
     "metadata": {},
     "output_type": "execute_result"
    }
   ],
   "source": [
    "train_df.head()"
   ]
  },
  {
   "cell_type": "code",
   "execution_count": 15,
   "metadata": {
    "execution": {
     "iopub.execute_input": "2025-04-07T00:02:16.184834Z",
     "iopub.status.busy": "2025-04-07T00:02:16.183835Z",
     "iopub.status.idle": "2025-04-07T00:02:16.577439Z",
     "shell.execute_reply": "2025-04-07T00:02:16.577439Z",
     "shell.execute_reply.started": "2025-04-07T00:02:16.184834Z"
    }
   },
   "outputs": [],
   "source": [
    "train_df = train_df.dropna()"
   ]
  },
  {
   "cell_type": "code",
   "execution_count": 17,
   "metadata": {
    "execution": {
     "iopub.execute_input": "2025-04-07T00:03:09.556759Z",
     "iopub.status.busy": "2025-04-07T00:03:09.555748Z",
     "iopub.status.idle": "2025-04-07T00:03:10.636087Z",
     "shell.execute_reply": "2025-04-07T00:03:10.636087Z",
     "shell.execute_reply.started": "2025-04-07T00:03:09.556759Z"
    }
   },
   "outputs": [],
   "source": [
    "train_df['Summary and Text'] = train_df['Summary'].astype(str) + train_df['Text'].astype(str)"
   ]
  },
  {
   "cell_type": "code",
   "execution_count": 18,
   "metadata": {
    "execution": {
     "iopub.execute_input": "2025-04-07T00:03:12.423880Z",
     "iopub.status.busy": "2025-04-07T00:03:12.422884Z",
     "iopub.status.idle": "2025-04-07T00:03:12.907575Z",
     "shell.execute_reply": "2025-04-07T00:03:12.907575Z",
     "shell.execute_reply.started": "2025-04-07T00:03:12.423880Z"
    }
   },
   "outputs": [
    {
     "data": {
      "text/plain": [
       "Id                  0\n",
       "ProductId           0\n",
       "UserId              0\n",
       "Summary             0\n",
       "Text                0\n",
       "Score               0\n",
       "Summary and Text    0\n",
       "dtype: int64"
      ]
     },
     "execution_count": 18,
     "metadata": {},
     "output_type": "execute_result"
    }
   ],
   "source": [
    "train_df.isnull().sum()"
   ]
  },
  {
   "cell_type": "code",
   "execution_count": 19,
   "metadata": {
    "execution": {
     "iopub.execute_input": "2025-04-07T00:03:15.107526Z",
     "iopub.status.busy": "2025-04-07T00:03:15.107526Z",
     "iopub.status.idle": "2025-04-07T00:03:15.124495Z",
     "shell.execute_reply": "2025-04-07T00:03:15.124495Z",
     "shell.execute_reply.started": "2025-04-07T00:03:15.107526Z"
    }
   },
   "outputs": [
    {
     "data": {
      "text/plain": [
       "Id                    int64\n",
       "ProductId            object\n",
       "UserId               object\n",
       "Summary              object\n",
       "Text                 object\n",
       "Score               float64\n",
       "Summary and Text     object\n",
       "dtype: object"
      ]
     },
     "execution_count": 19,
     "metadata": {},
     "output_type": "execute_result"
    }
   ],
   "source": [
    "train_df.dtypes"
   ]
  },
  {
   "cell_type": "code",
   "execution_count": 20,
   "metadata": {
    "execution": {
     "iopub.execute_input": "2025-04-07T00:03:26.448208Z",
     "iopub.status.busy": "2025-04-07T00:03:26.448208Z",
     "iopub.status.idle": "2025-04-07T00:03:26.521041Z",
     "shell.execute_reply": "2025-04-07T00:03:26.521041Z",
     "shell.execute_reply.started": "2025-04-07T00:03:26.448208Z"
    }
   },
   "outputs": [],
   "source": [
    "mini_train = train_df.sample(n=10000, random_state=42).copy()"
   ]
  },
  {
   "cell_type": "code",
   "execution_count": 21,
   "metadata": {
    "execution": {
     "iopub.execute_input": "2025-04-07T00:03:26.924503Z",
     "iopub.status.busy": "2025-04-07T00:03:26.924503Z",
     "iopub.status.idle": "2025-04-07T00:03:26.943027Z",
     "shell.execute_reply": "2025-04-07T00:03:26.942027Z",
     "shell.execute_reply.started": "2025-04-07T00:03:26.924503Z"
    }
   },
   "outputs": [
    {
     "data": {
      "text/html": [
       "<div>\n",
       "<style scoped>\n",
       "    .dataframe tbody tr th:only-of-type {\n",
       "        vertical-align: middle;\n",
       "    }\n",
       "\n",
       "    .dataframe tbody tr th {\n",
       "        vertical-align: top;\n",
       "    }\n",
       "\n",
       "    .dataframe thead th {\n",
       "        text-align: right;\n",
       "    }\n",
       "</style>\n",
       "<table border=\"1\" class=\"dataframe\">\n",
       "  <thead>\n",
       "    <tr style=\"text-align: right;\">\n",
       "      <th></th>\n",
       "      <th>Id</th>\n",
       "      <th>ProductId</th>\n",
       "      <th>UserId</th>\n",
       "      <th>Summary</th>\n",
       "      <th>Text</th>\n",
       "      <th>Score</th>\n",
       "      <th>Summary and Text</th>\n",
       "    </tr>\n",
       "  </thead>\n",
       "  <tbody>\n",
       "    <tr>\n",
       "      <th>327337</th>\n",
       "      <td>1035185</td>\n",
       "      <td>B000KLQUV2</td>\n",
       "      <td>A3GUZIX0ITZORF</td>\n",
       "      <td>\"Just say, 'NO' to Jesus\"</td>\n",
       "      <td>Like most of the other reviewers here say, thi...</td>\n",
       "      <td>5.0</td>\n",
       "      <td>\"Just say, 'NO' to Jesus\"Like most of the othe...</td>\n",
       "    </tr>\n",
       "    <tr>\n",
       "      <th>276864</th>\n",
       "      <td>431435</td>\n",
       "      <td>6304680724</td>\n",
       "      <td>A26BWRBPP4V2WF</td>\n",
       "      <td>Future events such as these will affect you in...</td>\n",
       "      <td>There are two kinds of bad movies - the kind t...</td>\n",
       "      <td>4.0</td>\n",
       "      <td>Future events such as these will affect you in...</td>\n",
       "    </tr>\n",
       "    <tr>\n",
       "      <th>904589</th>\n",
       "      <td>1413559</td>\n",
       "      <td>B004LROMWU</td>\n",
       "      <td>A10CRY9MFXE3HH</td>\n",
       "      <td>It's OK</td>\n",
       "      <td>It certainly a watchable series and I'm rootin...</td>\n",
       "      <td>3.0</td>\n",
       "      <td>It's OKIt certainly a watchable series and I'm...</td>\n",
       "    </tr>\n",
       "    <tr>\n",
       "      <th>382585</th>\n",
       "      <td>535298</td>\n",
       "      <td>B00003CXS4</td>\n",
       "      <td>A34974VMNZKRAT</td>\n",
       "      <td>Brilliant</td>\n",
       "      <td>You may not be a Brad Pitt fan.  That's okay! ...</td>\n",
       "      <td>5.0</td>\n",
       "      <td>BrilliantYou may not be a Brad Pitt fan.  That...</td>\n",
       "    </tr>\n",
       "    <tr>\n",
       "      <th>878200</th>\n",
       "      <td>1392921</td>\n",
       "      <td>B004A8ZX32</td>\n",
       "      <td>AHCA0TKJE4MFL</td>\n",
       "      <td>Takes More than One Viewing</td>\n",
       "      <td>I must confess, at the outset, that I am a big...</td>\n",
       "      <td>5.0</td>\n",
       "      <td>Takes More than One ViewingI must confess, at ...</td>\n",
       "    </tr>\n",
       "  </tbody>\n",
       "</table>\n",
       "</div>"
      ],
      "text/plain": [
       "             Id   ProductId          UserId  \\\n",
       "327337  1035185  B000KLQUV2  A3GUZIX0ITZORF   \n",
       "276864   431435  6304680724  A26BWRBPP4V2WF   \n",
       "904589  1413559  B004LROMWU  A10CRY9MFXE3HH   \n",
       "382585   535298  B00003CXS4  A34974VMNZKRAT   \n",
       "878200  1392921  B004A8ZX32   AHCA0TKJE4MFL   \n",
       "\n",
       "                                                  Summary  \\\n",
       "327337                          \"Just say, 'NO' to Jesus\"   \n",
       "276864  Future events such as these will affect you in...   \n",
       "904589                                            It's OK   \n",
       "382585                                          Brilliant   \n",
       "878200                        Takes More than One Viewing   \n",
       "\n",
       "                                                     Text  Score  \\\n",
       "327337  Like most of the other reviewers here say, thi...    5.0   \n",
       "276864  There are two kinds of bad movies - the kind t...    4.0   \n",
       "904589  It certainly a watchable series and I'm rootin...    3.0   \n",
       "382585  You may not be a Brad Pitt fan.  That's okay! ...    5.0   \n",
       "878200  I must confess, at the outset, that I am a big...    5.0   \n",
       "\n",
       "                                         Summary and Text  \n",
       "327337  \"Just say, 'NO' to Jesus\"Like most of the othe...  \n",
       "276864  Future events such as these will affect you in...  \n",
       "904589  It's OKIt certainly a watchable series and I'm...  \n",
       "382585  BrilliantYou may not be a Brad Pitt fan.  That...  \n",
       "878200  Takes More than One ViewingI must confess, at ...  "
      ]
     },
     "execution_count": 21,
     "metadata": {},
     "output_type": "execute_result"
    }
   ],
   "source": [
    "mini_train.head()"
   ]
  },
  {
   "cell_type": "code",
   "execution_count": 22,
   "metadata": {
    "execution": {
     "iopub.execute_input": "2025-04-07T00:03:27.334281Z",
     "iopub.status.busy": "2025-04-07T00:03:27.334281Z",
     "iopub.status.idle": "2025-04-07T00:03:27.348304Z",
     "shell.execute_reply": "2025-04-07T00:03:27.347299Z",
     "shell.execute_reply.started": "2025-04-07T00:03:27.334281Z"
    }
   },
   "outputs": [
    {
     "data": {
      "text/plain": [
       "('Brilliant',\n",
       " \"You may not be a Brad Pitt fan.  That's okay!  You barely recognize him here.  The rest of the actors are not well known in American cinema, though almost all are famous in the UK (even if it isn't for their acting).  The movie is very similar in pacing and style to Guy Ritchie's earlier movie Lock, Stock, and Two Smoking Barrels, but the characters and situations are just as funny and feel fresh.  I laughed so hard while watching this film, the twelve times I saw it.  Thoroughly enjoyable!\")"
      ]
     },
     "execution_count": 22,
     "metadata": {},
     "output_type": "execute_result"
    }
   ],
   "source": [
    "i = 3\n",
    "mini_train.iloc[i]['Summary'], mini_train.iloc[i]['Text']"
   ]
  },
  {
   "cell_type": "code",
   "execution_count": 15,
   "metadata": {
    "execution": {
     "iopub.execute_input": "2025-04-06T22:38:54.116383Z",
     "iopub.status.busy": "2025-04-06T22:38:54.115388Z",
     "iopub.status.idle": "2025-04-06T22:38:57.050761Z",
     "shell.execute_reply": "2025-04-06T22:38:57.049813Z",
     "shell.execute_reply.started": "2025-04-06T22:38:54.116383Z"
    }
   },
   "outputs": [
    {
     "name": "stderr",
     "output_type": "stream",
     "text": [
      "C:\\Users\\akhil\\AppData\\Local\\Temp\\ipykernel_25100\\776576175.py:16: FutureWarning: \n",
      "\n",
      "Passing `palette` without assigning `hue` is deprecated and will be removed in v0.14.0. Assign the `x` variable to `hue` and set `legend=False` for the same effect.\n",
      "\n",
      "  sns.countplot(x='Score', data=train_df, palette='viridis')\n"
     ]
    },
    {
     "data": {
      "image/png": "[encoded data removed]",
      "text/plain": [
       "<Figure size 800x600 with 1 Axes>"
      ]
     },
     "metadata": {},
     "output_type": "display_data"
    }
   ],
   "source": [
    "# Required libraries\n",
    "import pandas as pd\n",
    "import matplotlib.pyplot as plt\n",
    "import seaborn as sns\n",
    "\n",
    "# Quick glance at the data\n",
    "# print(df.head())\n",
    "# print(df.info())\n",
    "# print(df.describe())\n",
    "\n",
    "# Setting plot style\n",
    "sns.set(style=\"whitegrid\")\n",
    "\n",
    "# 1. Score Distribution\n",
    "plt.figure(figsize=(8, 6))\n",
    "sns.countplot(x='Score', data=train_df, palette='viridis')\n",
    "plt.title('Distribution of Review Scores')\n",
    "plt.xlabel('Score')\n",
    "plt.ylabel('Count')\n",
    "plt.show()\n",
    "\n"
   ]
  },
  {
   "attachments": {},
   "cell_type": "markdown",
   "metadata": {},
   "source": [
    "## Creating your model"
   ]
  },
  {
   "cell_type": "code",
   "execution_count": 23,
   "metadata": {
    "execution": {
     "iopub.execute_input": "2025-04-07T00:03:38.932916Z",
     "iopub.status.busy": "2025-04-07T00:03:38.932916Z",
     "iopub.status.idle": "2025-04-07T00:03:39.832630Z",
     "shell.execute_reply": "2025-04-07T00:03:39.832630Z",
     "shell.execute_reply.started": "2025-04-07T00:03:38.932916Z"
    }
   },
   "outputs": [],
   "source": [
    "from sklearn.feature_extraction.text import TfidfVectorizer\n",
    "from sklearn.linear_model import LogisticRegression\n",
    "from sklearn.model_selection import train_test_split\n",
    "from sklearn.metrics import classification_report, accuracy_score\n"
   ]
  },
  {
   "cell_type": "code",
   "execution_count": 24,
   "metadata": {
    "execution": {
     "iopub.execute_input": "2025-04-07T00:03:44.777309Z",
     "iopub.status.busy": "2025-04-07T00:03:44.775805Z",
     "iopub.status.idle": "2025-04-07T00:03:45.780222Z",
     "shell.execute_reply": "2025-04-07T00:03:45.780222Z",
     "shell.execute_reply.started": "2025-04-07T00:03:44.775805Z"
    }
   },
   "outputs": [],
   "source": [
    "vectorizer = TfidfVectorizer(max_features=5000)\n",
    "\n",
    "X_tfidf = vectorizer.fit_transform(mini_train['Summary and Text'])"
   ]
  },
  {
   "cell_type": "code",
   "execution_count": 25,
   "metadata": {
    "execution": {
     "iopub.execute_input": "2025-04-07T00:03:46.854785Z",
     "iopub.status.busy": "2025-04-07T00:03:46.853732Z",
     "iopub.status.idle": "2025-04-07T00:03:46.880175Z",
     "shell.execute_reply": "2025-04-07T00:03:46.879594Z",
     "shell.execute_reply.started": "2025-04-07T00:03:46.854785Z"
    }
   },
   "outputs": [],
   "source": [
    "\n",
    "X_train, X_val, y_train, y_val = train_test_split(X_tfidf, mini_train['Score'], test_size=0.2, random_state=42)"
   ]
  },
  {
   "cell_type": "code",
   "execution_count": 26,
   "metadata": {
    "execution": {
     "iopub.execute_input": "2025-04-07T00:03:48.484920Z",
     "iopub.status.busy": "2025-04-07T00:03:48.483920Z",
     "iopub.status.idle": "2025-04-07T00:03:49.191847Z",
     "shell.execute_reply": "2025-04-07T00:03:49.191847Z",
     "shell.execute_reply.started": "2025-04-07T00:03:48.484920Z"
    }
   },
   "outputs": [
    {
     "data": {
      "text/html": [
       "<style>#sk-container-id-1 {\n",
       "  /* Definition of color scheme common for light and dark mode */\n",
       "  --sklearn-color-text: black;\n",
       "  --sklearn-color-line: gray;\n",
       "  /* Definition of color scheme for unfitted estimators */\n",
       "  --sklearn-color-unfitted-level-0: #fff5e6;\n",
       "  --sklearn-color-unfitted-level-1: #f6e4d2;\n",
       "  --sklearn-color-unfitted-level-2: #ffe0b3;\n",
       "  --sklearn-color-unfitted-level-3: chocolate;\n",
       "  /* Definition of color scheme for fitted estimators */\n",
       "  --sklearn-color-fitted-level-0: #f0f8ff;\n",
       "  --sklearn-color-fitted-level-1: #d4ebff;\n",
       "  --sklearn-color-fitted-level-2: #b3dbfd;\n",
       "  --sklearn-color-fitted-level-3: cornflowerblue;\n",
       "\n",
       "  /* Specific color for light theme */\n",
       "  --sklearn-color-text-on-default-background: var(--sg-text-color, var(--theme-code-foreground, var(--jp-content-font-color1, black)));\n",
       "  --sklearn-color-background: var(--sg-background-color, var(--theme-background, var(--jp-layout-color0, white)));\n",
       "  --sklearn-color-border-box: var(--sg-text-color, var(--theme-code-foreground, var(--jp-content-font-color1, black)));\n",
       "  --sklearn-color-icon: #696969;\n",
       "\n",
       "  @media (prefers-color-scheme: dark) {\n",
       "    /* Redefinition of color scheme for dark theme */\n",
       "    --sklearn-color-text-on-default-background: var(--sg-text-color, var(--theme-code-foreground, var(--jp-content-font-color1, white)));\n",
       "    --sklearn-color-background: var(--sg-background-color, var(--theme-background, var(--jp-layout-color0, #111)));\n",
       "    --sklearn-color-border-box: var(--sg-text-color, var(--theme-code-foreground, var(--jp-content-font-color1, white)));\n",
       "    --sklearn-color-icon: #878787;\n",
       "  }\n",
       "}\n",
       "\n",
       "#sk-container-id-1 {\n",
       "  color: var(--sklearn-color-text);\n",
       "}\n",
       "\n",
       "#sk-container-id-1 pre {\n",
       "  padding: 0;\n",
       "}\n",
       "\n",
       "#sk-container-id-1 input.sk-hidden--visually {\n",
       "  border: 0;\n",
       "  clip: rect(1px 1px 1px 1px);\n",
       "  clip: rect(1px, 1px, 1px, 1px);\n",
       "  height: 1px;\n",
       "  margin: -1px;\n",
       "  overflow: hidden;\n",
       "  padding: 0;\n",
       "  position: absolute;\n",
       "  width: 1px;\n",
       "}\n",
       "\n",
       "#sk-container-id-1 div.sk-dashed-wrapped {\n",
       "  border: 1px dashed var(--sklearn-color-line);\n",
       "  margin: 0 0.4em 0.5em 0.4em;\n",
       "  box-sizing: border-box;\n",
       "  padding-bottom: 0.4em;\n",
       "  background-color: var(--sklearn-color-background);\n",
       "}\n",
       "\n",
       "#sk-container-id-1 div.sk-container {\n",
       "  /* jupyter's `normalize.less` sets `[hidden] { display: none; }`\n",
       "     but bootstrap.min.css set `[hidden] { display: none !important; }`\n",
       "     so we also need the `!important` here to be able to override the\n",
       "     default hidden behavior on the sphinx rendered scikit-learn.org.\n",
       "     See: https://github.com/scikit-learn/scikit-learn/issues/21755 */\n",
       "  display: inline-block !important;\n",
       "  position: relative;\n",
       "}\n",
       "\n",
       "#sk-container-id-1 div.sk-text-repr-fallback {\n",
       "  display: none;\n",
       "}\n",
       "\n",
       "div.sk-parallel-item,\n",
       "div.sk-serial,\n",
       "div.sk-item {\n",
       "  /* draw centered vertical line to link estimators */\n",
       "  background-image: linear-gradient(var(--sklearn-color-text-on-default-background), var(--sklearn-color-text-on-default-background));\n",
       "  background-size: 2px 100%;\n",
       "  background-repeat: no-repeat;\n",
       "  background-position: center center;\n",
       "}\n",
       "\n",
       "/* Parallel-specific style estimator block */\n",
       "\n",
       "#sk-container-id-1 div.sk-parallel-item::after {\n",
       "  content: \"\";\n",
       "  width: 100%;\n",
       "  border-bottom: 2px solid var(--sklearn-color-text-on-default-background);\n",
       "  flex-grow: 1;\n",
       "}\n",
       "\n",
       "#sk-container-id-1 div.sk-parallel {\n",
       "  display: flex;\n",
       "  align-items: stretch;\n",
       "  justify-content: center;\n",
       "  background-color: var(--sklearn-color-background);\n",
       "  position: relative;\n",
       "}\n",
       "\n",
       "#sk-container-id-1 div.sk-parallel-item {\n",
       "  display: flex;\n",
       "  flex-direction: column;\n",
       "}\n",
       "\n",
       "#sk-container-id-1 div.sk-parallel-item:first-child::after {\n",
       "  align-self: flex-end;\n",
       "  width: 50%;\n",
       "}\n",
       "\n",
       "#sk-container-id-1 div.sk-parallel-item:last-child::after {\n",
       "  align-self: flex-start;\n",
       "  width: 50%;\n",
       "}\n",
       "\n",
       "#sk-container-id-1 div.sk-parallel-item:only-child::after {\n",
       "  width: 0;\n",
       "}\n",
       "\n",
       "/* Serial-specific style estimator block */\n",
       "\n",
       "#sk-container-id-1 div.sk-serial {\n",
       "  display: flex;\n",
       "  flex-direction: column;\n",
       "  align-items: center;\n",
       "  background-color: var(--sklearn-color-background);\n",
       "  padding-right: 1em;\n",
       "  padding-left: 1em;\n",
       "}\n",
       "\n",
       "\n",
       "/* Toggleable style: style used for estimator/Pipeline/ColumnTransformer box that is\n",
       "clickable and can be expanded/collapsed.\n",
       "- Pipeline and ColumnTransformer use this feature and define the default style\n",
       "- Estimators will overwrite some part of the style using the `sk-estimator` class\n",
       "*/\n",
       "\n",
       "/* Pipeline and ColumnTransformer style (default) */\n",
       "\n",
       "#sk-container-id-1 div.sk-toggleable {\n",
       "  /* Default theme specific background. It is overwritten whether we have a\n",
       "  specific estimator or a Pipeline/ColumnTransformer */\n",
       "  background-color: var(--sklearn-color-background);\n",
       "}\n",
       "\n",
       "/* Toggleable label */\n",
       "#sk-container-id-1 label.sk-toggleable__label {\n",
       "  cursor: pointer;\n",
       "  display: block;\n",
       "  width: 100%;\n",
       "  margin-bottom: 0;\n",
       "  padding: 0.5em;\n",
       "  box-sizing: border-box;\n",
       "  text-align: center;\n",
       "}\n",
       "\n",
       "#sk-container-id-1 label.sk-toggleable__label-arrow:before {\n",
       "  /* Arrow on the left of the label */\n",
       "  content: \"▸\";\n",
       "  float: left;\n",
       "  margin-right: 0.25em;\n",
       "  color: var(--sklearn-color-icon);\n",
       "}\n",
       "\n",
       "#sk-container-id-1 label.sk-toggleable__label-arrow:hover:before {\n",
       "  color: var(--sklearn-color-text);\n",
       "}\n",
       "\n",
       "/* Toggleable content - dropdown */\n",
       "\n",
       "#sk-container-id-1 div.sk-toggleable__content {\n",
       "  max-height: 0;\n",
       "  max-width: 0;\n",
       "  overflow: hidden;\n",
       "  text-align: left;\n",
       "  /* unfitted */\n",
       "  background-color: var(--sklearn-color-unfitted-level-0);\n",
       "}\n",
       "\n",
       "#sk-container-id-1 div.sk-toggleable__content.fitted {\n",
       "  /* fitted */\n",
       "  background-color: var(--sklearn-color-fitted-level-0);\n",
       "}\n",
       "\n",
       "#sk-container-id-1 div.sk-toggleable__content pre {\n",
       "  margin: 0.2em;\n",
       "  border-radius: 0.25em;\n",
       "  color: var(--sklearn-color-text);\n",
       "  /* unfitted */\n",
       "  background-color: var(--sklearn-color-unfitted-level-0);\n",
       "}\n",
       "\n",
       "#sk-container-id-1 div.sk-toggleable__content.fitted pre {\n",
       "  /* unfitted */\n",
       "  background-color: var(--sklearn-color-fitted-level-0);\n",
       "}\n",
       "\n",
       "#sk-container-id-1 input.sk-toggleable__control:checked~div.sk-toggleable__content {\n",
       "  /* Expand drop-down */\n",
       "  max-height: 200px;\n",
       "  max-width: 100%;\n",
       "  overflow: auto;\n",
       "}\n",
       "\n",
       "#sk-container-id-1 input.sk-toggleable__control:checked~label.sk-toggleable__label-arrow:before {\n",
       "  content: \"▾\";\n",
       "}\n",
       "\n",
       "/* Pipeline/ColumnTransformer-specific style */\n",
       "\n",
       "#sk-container-id-1 div.sk-label input.sk-toggleable__control:checked~label.sk-toggleable__label {\n",
       "  color: var(--sklearn-color-text);\n",
       "  background-color: var(--sklearn-color-unfitted-level-2);\n",
       "}\n",
       "\n",
       "#sk-container-id-1 div.sk-label.fitted input.sk-toggleable__control:checked~label.sk-toggleable__label {\n",
       "  background-color: var(--sklearn-color-fitted-level-2);\n",
       "}\n",
       "\n",
       "/* Estimator-specific style */\n",
       "\n",
       "/* Colorize estimator box */\n",
       "#sk-container-id-1 div.sk-estimator input.sk-toggleable__control:checked~label.sk-toggleable__label {\n",
       "  /* unfitted */\n",
       "  background-color: var(--sklearn-color-unfitted-level-2);\n",
       "}\n",
       "\n",
       "#sk-container-id-1 div.sk-estimator.fitted input.sk-toggleable__control:checked~label.sk-toggleable__label {\n",
       "  /* fitted */\n",
       "  background-color: var(--sklearn-color-fitted-level-2);\n",
       "}\n",
       "\n",
       "#sk-container-id-1 div.sk-label label.sk-toggleable__label,\n",
       "#sk-container-id-1 div.sk-label label {\n",
       "  /* The background is the default theme color */\n",
       "  color: var(--sklearn-color-text-on-default-background);\n",
       "}\n",
       "\n",
       "/* On hover, darken the color of the background */\n",
       "#sk-container-id-1 div.sk-label:hover label.sk-toggleable__label {\n",
       "  color: var(--sklearn-color-text);\n",
       "  background-color: var(--sklearn-color-unfitted-level-2);\n",
       "}\n",
       "\n",
       "/* Label box, darken color on hover, fitted */\n",
       "#sk-container-id-1 div.sk-label.fitted:hover label.sk-toggleable__label.fitted {\n",
       "  color: var(--sklearn-color-text);\n",
       "  background-color: var(--sklearn-color-fitted-level-2);\n",
       "}\n",
       "\n",
       "/* Estimator label */\n",
       "\n",
       "#sk-container-id-1 div.sk-label label {\n",
       "  font-family: monospace;\n",
       "  font-weight: bold;\n",
       "  display: inline-block;\n",
       "  line-height: 1.2em;\n",
       "}\n",
       "\n",
       "#sk-container-id-1 div.sk-label-container {\n",
       "  text-align: center;\n",
       "}\n",
       "\n",
       "/* Estimator-specific */\n",
       "#sk-container-id-1 div.sk-estimator {\n",
       "  font-family: monospace;\n",
       "  border: 1px dotted var(--sklearn-color-border-box);\n",
       "  border-radius: 0.25em;\n",
       "  box-sizing: border-box;\n",
       "  margin-bottom: 0.5em;\n",
       "  /* unfitted */\n",
       "  background-color: var(--sklearn-color-unfitted-level-0);\n",
       "}\n",
       "\n",
       "#sk-container-id-1 div.sk-estimator.fitted {\n",
       "  /* fitted */\n",
       "  background-color: var(--sklearn-color-fitted-level-0);\n",
       "}\n",
       "\n",
       "/* on hover */\n",
       "#sk-container-id-1 div.sk-estimator:hover {\n",
       "  /* unfitted */\n",
       "  background-color: var(--sklearn-color-unfitted-level-2);\n",
       "}\n",
       "\n",
       "#sk-container-id-1 div.sk-estimator.fitted:hover {\n",
       "  /* fitted */\n",
       "  background-color: var(--sklearn-color-fitted-level-2);\n",
       "}\n",
       "\n",
       "/* Specification for estimator info (e.g. \"i\" and \"?\") */\n",
       "\n",
       "/* Common style for \"i\" and \"?\" */\n",
       "\n",
       ".sk-estimator-doc-link,\n",
       "a:link.sk-estimator-doc-link,\n",
       "a:visited.sk-estimator-doc-link {\n",
       "  float: right;\n",
       "  font-size: smaller;\n",
       "  line-height: 1em;\n",
       "  font-family: monospace;\n",
       "  background-color: var(--sklearn-color-background);\n",
       "  border-radius: 1em;\n",
       "  height: 1em;\n",
       "  width: 1em;\n",
       "  text-decoration: none !important;\n",
       "  margin-left: 1ex;\n",
       "  /* unfitted */\n",
       "  border: var(--sklearn-color-unfitted-level-1) 1pt solid;\n",
       "  color: var(--sklearn-color-unfitted-level-1);\n",
       "}\n",
       "\n",
       ".sk-estimator-doc-link.fitted,\n",
       "a:link.sk-estimator-doc-link.fitted,\n",
       "a:visited.sk-estimator-doc-link.fitted {\n",
       "  /* fitted */\n",
       "  border: var(--sklearn-color-fitted-level-1) 1pt solid;\n",
       "  color: var(--sklearn-color-fitted-level-1);\n",
       "}\n",
       "\n",
       "/* On hover */\n",
       "div.sk-estimator:hover .sk-estimator-doc-link:hover,\n",
       ".sk-estimator-doc-link:hover,\n",
       "div.sk-label-container:hover .sk-estimator-doc-link:hover,\n",
       ".sk-estimator-doc-link:hover {\n",
       "  /* unfitted */\n",
       "  background-color: var(--sklearn-color-unfitted-level-3);\n",
       "  color: var(--sklearn-color-background);\n",
       "  text-decoration: none;\n",
       "}\n",
       "\n",
       "div.sk-estimator.fitted:hover .sk-estimator-doc-link.fitted:hover,\n",
       ".sk-estimator-doc-link.fitted:hover,\n",
       "div.sk-label-container:hover .sk-estimator-doc-link.fitted:hover,\n",
       ".sk-estimator-doc-link.fitted:hover {\n",
       "  /* fitted */\n",
       "  background-color: var(--sklearn-color-fitted-level-3);\n",
       "  color: var(--sklearn-color-background);\n",
       "  text-decoration: none;\n",
       "}\n",
       "\n",
       "/* Span, style for the box shown on hovering the info icon */\n",
       ".sk-estimator-doc-link span {\n",
       "  display: none;\n",
       "  z-index: 9999;\n",
       "  position: relative;\n",
       "  font-weight: normal;\n",
       "  right: .2ex;\n",
       "  padding: .5ex;\n",
       "  margin: .5ex;\n",
       "  width: min-content;\n",
       "  min-width: 20ex;\n",
       "  max-width: 50ex;\n",
       "  color: var(--sklearn-color-text);\n",
       "  box-shadow: 2pt 2pt 4pt #999;\n",
       "  /* unfitted */\n",
       "  background: var(--sklearn-color-unfitted-level-0);\n",
       "  border: .5pt solid var(--sklearn-color-unfitted-level-3);\n",
       "}\n",
       "\n",
       ".sk-estimator-doc-link.fitted span {\n",
       "  /* fitted */\n",
       "  background: var(--sklearn-color-fitted-level-0);\n",
       "  border: var(--sklearn-color-fitted-level-3);\n",
       "}\n",
       "\n",
       ".sk-estimator-doc-link:hover span {\n",
       "  display: block;\n",
       "}\n",
       "\n",
       "/* \"?\"-specific style due to the `<a>` HTML tag */\n",
       "\n",
       "#sk-container-id-1 a.estimator_doc_link {\n",
       "  float: right;\n",
       "  font-size: 1rem;\n",
       "  line-height: 1em;\n",
       "  font-family: monospace;\n",
       "  background-color: var(--sklearn-color-background);\n",
       "  border-radius: 1rem;\n",
       "  height: 1rem;\n",
       "  width: 1rem;\n",
       "  text-decoration: none;\n",
       "  /* unfitted */\n",
       "  color: var(--sklearn-color-unfitted-level-1);\n",
       "  border: var(--sklearn-color-unfitted-level-1) 1pt solid;\n",
       "}\n",
       "\n",
       "#sk-container-id-1 a.estimator_doc_link.fitted {\n",
       "  /* fitted */\n",
       "  border: var(--sklearn-color-fitted-level-1) 1pt solid;\n",
       "  color: var(--sklearn-color-fitted-level-1);\n",
       "}\n",
       "\n",
       "/* On hover */\n",
       "#sk-container-id-1 a.estimator_doc_link:hover {\n",
       "  /* unfitted */\n",
       "  background-color: var(--sklearn-color-unfitted-level-3);\n",
       "  color: var(--sklearn-color-background);\n",
       "  text-decoration: none;\n",
       "}\n",
       "\n",
       "#sk-container-id-1 a.estimator_doc_link.fitted:hover {\n",
       "  /* fitted */\n",
       "  background-color: var(--sklearn-color-fitted-level-3);\n",
       "}\n",
       "</style><div id=\"sk-container-id-1\" class=\"sk-top-container\"><div class=\"sk-text-repr-fallback\"><pre>LogisticRegression(max_iter=1000)</pre><b>In a Jupyter environment, please rerun this cell to show the HTML representation or trust the notebook. <br />On GitHub, the HTML representation is unable to render, please try loading this page with nbviewer.org.</b></div><div class=\"sk-container\" hidden><div class=\"sk-item\"><div class=\"sk-estimator fitted sk-toggleable\"><input class=\"sk-toggleable__control sk-hidden--visually\" id=\"sk-estimator-id-1\" type=\"checkbox\" checked><label for=\"sk-estimator-id-1\" class=\"sk-toggleable__label fitted sk-toggleable__label-arrow fitted\">&nbsp;&nbsp;LogisticRegression<a class=\"sk-estimator-doc-link fitted\" rel=\"noreferrer\" target=\"_blank\" href=\"https://scikit-learn.org/1.4/modules/generated/sklearn.linear_model.LogisticRegression.html\">?<span>Documentation for LogisticRegression</span></a><span class=\"sk-estimator-doc-link fitted\">i<span>Fitted</span></span></label><div class=\"sk-toggleable__content fitted\"><pre>LogisticRegression(max_iter=1000)</pre></div> </div></div></div></div>"
      ],
      "text/plain": [
       "LogisticRegression(max_iter=1000)"
      ]
     },
     "execution_count": 26,
     "metadata": {},
     "output_type": "execute_result"
    }
   ],
   "source": [
    "clf = LogisticRegression(max_iter=1000)\n",
    "clf.fit(X_train, y_train)"
   ]
  },
  {
   "cell_type": "code",
   "execution_count": 27,
   "metadata": {
    "execution": {
     "iopub.execute_input": "2025-04-07T00:03:50.812718Z",
     "iopub.status.busy": "2025-04-07T00:03:50.812718Z",
     "iopub.status.idle": "2025-04-07T00:03:50.839900Z",
     "shell.execute_reply": "2025-04-07T00:03:50.839235Z",
     "shell.execute_reply.started": "2025-04-07T00:03:50.812718Z"
    }
   },
   "outputs": [
    {
     "name": "stdout",
     "output_type": "stream",
     "text": [
      "              precision    recall  f1-score   support\n",
      "\n",
      "         1.0       0.71      0.31      0.44       124\n",
      "         2.0       0.31      0.03      0.06       131\n",
      "         3.0       0.38      0.19      0.26       216\n",
      "         4.0       0.44      0.28      0.34       491\n",
      "         5.0       0.63      0.92      0.75      1038\n",
      "\n",
      "    accuracy                           0.59      2000\n",
      "   macro avg       0.49      0.35      0.37      2000\n",
      "weighted avg       0.54      0.59      0.53      2000\n",
      "\n"
     ]
    }
   ],
   "source": [
    "# Predictions & evaluation\n",
    "y_pred = clf.predict(X_val)\n",
    "print(classification_report(y_val, y_pred))"
   ]
  },
  {
   "cell_type": "markdown",
   "metadata": {},
   "source": [
    "# Fine Tuning"
   ]
  },
  {
   "cell_type": "code",
   "execution_count": null,
   "metadata": {},
   "outputs": [],
   "source": [
    "..."
   ]
  },
  {
   "cell_type": "markdown",
   "metadata": {},
   "source": [
    "# Evaluation"
   ]
  },
  {
   "cell_type": "code",
   "execution_count": null,
   "metadata": {},
   "outputs": [],
   "source": [
    "Y_train_pred = model.predict(X_train)\n",
    "print(\"Accuracy on training set = \", accuracy_score(Y_train, Y_train_pred))\n",
    "Y_test_pred = model.predict(X_test)\n",
    "print(\"Accuracy on testing set = \", accuracy_score(Y_test, Y_test_pred))\n",
    "\n",
    "# Plot a confusion matrix\n",
    "cm = confusion_matrix(Y_test, Y_test_pred)\n",
    "sns.heatmap(cm, annot=True)\n",
    "plt.title('Confusion matrix of the classifier')\n",
    "plt.xlabel('Predicted')\n",
    "plt.ylabel('True')\n",
    "plt.show()"
   ]
  },
  {
   "attachments": {},
   "cell_type": "markdown",
   "metadata": {},
   "source": [
    "## Create the Kaggle submission"
   ]
  },
  {
   "cell_type": "code",
   "execution_count": 28,
   "metadata": {
    "execution": {
     "iopub.execute_input": "2025-04-07T00:04:16.563455Z",
     "iopub.status.busy": "2025-04-07T00:04:16.562454Z",
     "iopub.status.idle": "2025-04-07T00:06:57.792147Z",
     "shell.execute_reply": "2025-04-07T00:06:57.790645Z",
     "shell.execute_reply.started": "2025-04-07T00:04:16.563455Z"
    }
   },
   "outputs": [],
   "source": [
    "tf_idf = vectorizer.fit_transform(train_df['Summary and Text'])"
   ]
  },
  {
   "cell_type": "code",
   "execution_count": 29,
   "metadata": {
    "execution": {
     "iopub.execute_input": "2025-04-07T00:06:57.796652Z",
     "iopub.status.busy": "2025-04-07T00:06:57.795149Z",
     "iopub.status.idle": "2025-04-07T00:07:24.641720Z",
     "shell.execute_reply": "2025-04-07T00:07:24.641720Z",
     "shell.execute_reply.started": "2025-04-07T00:06:57.796652Z"
    }
   },
   "outputs": [],
   "source": [
    "y = train_df['Score']\n",
    "X_test = vectorizer.transform(test_df['Summary and Text'])"
   ]
  },
  {
   "cell_type": "code",
   "execution_count": 30,
   "metadata": {
    "execution": {
     "iopub.execute_input": "2025-04-07T00:07:24.643723Z",
     "iopub.status.busy": "2025-04-07T00:07:24.643723Z",
     "iopub.status.idle": "2025-04-07T00:07:24.658584Z",
     "shell.execute_reply": "2025-04-07T00:07:24.657579Z",
     "shell.execute_reply.started": "2025-04-07T00:07:24.643723Z"
    }
   },
   "outputs": [
    {
     "data": {
      "text/html": [
       "<div>\n",
       "<style scoped>\n",
       "    .dataframe tbody tr th:only-of-type {\n",
       "        vertical-align: middle;\n",
       "    }\n",
       "\n",
       "    .dataframe tbody tr th {\n",
       "        vertical-align: top;\n",
       "    }\n",
       "\n",
       "    .dataframe thead th {\n",
       "        text-align: right;\n",
       "    }\n",
       "</style>\n",
       "<table border=\"1\" class=\"dataframe\">\n",
       "  <thead>\n",
       "    <tr style=\"text-align: right;\">\n",
       "      <th></th>\n",
       "      <th>Id</th>\n",
       "      <th>ProductId</th>\n",
       "      <th>UserId</th>\n",
       "      <th>Summary</th>\n",
       "      <th>Text</th>\n",
       "      <th>Summary and Text</th>\n",
       "    </tr>\n",
       "  </thead>\n",
       "  <tbody>\n",
       "    <tr>\n",
       "      <th>0</th>\n",
       "      <td>1323432</td>\n",
       "      <td>B0034G4P30</td>\n",
       "      <td>A120UTHQDQIJGH</td>\n",
       "      <td>Okay for a rental</td>\n",
       "      <td>This movie was just alright for me. I think pe...</td>\n",
       "      <td>Okay for a rentalThis movie was just alright f...</td>\n",
       "    </tr>\n",
       "    <tr>\n",
       "      <th>1</th>\n",
       "      <td>1137299</td>\n",
       "      <td>B0012IWO0I</td>\n",
       "      <td>A3SJBFCTJWBFT2</td>\n",
       "      <td>Great for kids</td>\n",
       "      <td>My kids love this movie.  Exciting and fun to ...</td>\n",
       "      <td>Great for kidsMy kids love this movie.  Exciti...</td>\n",
       "    </tr>\n",
       "    <tr>\n",
       "      <th>2</th>\n",
       "      <td>1459366</td>\n",
       "      <td>B005FUTBSC</td>\n",
       "      <td>A1V6FRU7EXP6N9</td>\n",
       "      <td>good movie</td>\n",
       "      <td>The effects were good, not the best but far fr...</td>\n",
       "      <td>good movieThe effects were good, not the best ...</td>\n",
       "    </tr>\n",
       "    <tr>\n",
       "      <th>3</th>\n",
       "      <td>931601</td>\n",
       "      <td>B000AREXBU</td>\n",
       "      <td>ARXDDR76Z5Q2I</td>\n",
       "      <td>Excellent quality dvd.  Don't pay big bucks fo...</td>\n",
       "      <td>I just got a copy of this S. Korean dvd of \"He...</td>\n",
       "      <td>Excellent quality dvd.  Don't pay big bucks fo...</td>\n",
       "    </tr>\n",
       "    <tr>\n",
       "      <th>4</th>\n",
       "      <td>1311995</td>\n",
       "      <td>B002ZG99B8</td>\n",
       "      <td>A2XAS9GVZL3B1</td>\n",
       "      <td>A mixed review</td>\n",
       "      <td>OK, to put this clearly and bluntly... if you ...</td>\n",
       "      <td>A mixed reviewOK, to put this clearly and blun...</td>\n",
       "    </tr>\n",
       "  </tbody>\n",
       "</table>\n",
       "</div>"
      ],
      "text/plain": [
       "        Id   ProductId          UserId  \\\n",
       "0  1323432  B0034G4P30  A120UTHQDQIJGH   \n",
       "1  1137299  B0012IWO0I  A3SJBFCTJWBFT2   \n",
       "2  1459366  B005FUTBSC  A1V6FRU7EXP6N9   \n",
       "3   931601  B000AREXBU   ARXDDR76Z5Q2I   \n",
       "4  1311995  B002ZG99B8   A2XAS9GVZL3B1   \n",
       "\n",
       "                                             Summary  \\\n",
       "0                                  Okay for a rental   \n",
       "1                                     Great for kids   \n",
       "2                                         good movie   \n",
       "3  Excellent quality dvd.  Don't pay big bucks fo...   \n",
       "4                                     A mixed review   \n",
       "\n",
       "                                                Text  \\\n",
       "0  This movie was just alright for me. I think pe...   \n",
       "1  My kids love this movie.  Exciting and fun to ...   \n",
       "2  The effects were good, not the best but far fr...   \n",
       "3  I just got a copy of this S. Korean dvd of \"He...   \n",
       "4  OK, to put this clearly and bluntly... if you ...   \n",
       "\n",
       "                                    Summary and Text  \n",
       "0  Okay for a rentalThis movie was just alright f...  \n",
       "1  Great for kidsMy kids love this movie.  Exciti...  \n",
       "2  good movieThe effects were good, not the best ...  \n",
       "3  Excellent quality dvd.  Don't pay big bucks fo...  \n",
       "4  A mixed reviewOK, to put this clearly and blun...  "
      ]
     },
     "execution_count": 30,
     "metadata": {},
     "output_type": "execute_result"
    }
   ],
   "source": [
    "test_df.head()"
   ]
  },
  {
   "cell_type": "code",
   "execution_count": 31,
   "metadata": {
    "execution": {
     "iopub.execute_input": "2025-04-07T00:07:24.660653Z",
     "iopub.status.busy": "2025-04-07T00:07:24.660653Z",
     "iopub.status.idle": "2025-04-07T00:12:21.884826Z",
     "shell.execute_reply": "2025-04-07T00:12:21.883833Z",
     "shell.execute_reply.started": "2025-04-07T00:07:24.660653Z"
    }
   },
   "outputs": [],
   "source": [
    "clf.fit(tf_idf, y)\n",
    "y_pred = clf.predict(X_test)\n",
    "test_df['Score'] = y_pred\n",
    "submission = test_df[['Id', 'Score']]\n",
    "submission.to_csv(\"submission.csv\", index=False)"
   ]
  },
  {
   "attachments": {},
   "cell_type": "markdown",
   "metadata": {},
   "source": [
    "Now you can upload the `submission.csv` to kaggle"
   ]
  }
 ],
 "metadata": {
  "kernelspec": {
   "display_name": "base",
   "language": "python",
   "name": "base"
  },
  "language_info": {
   "codemirror_mode": {
    "name": "ipython",
    "version": 3
   },
   "file_extension": ".py",
   "mimetype": "text/x-python",
   "name": "python",
   "nbconvert_exporter": "python",
   "pygments_lexer": "ipython3",
   "version": "3.10.16"
  },
  "vscode": {
   "interpreter": {
    "hash": "e7370f93d1d0cde622a1f8e1c04877d8463912d04d973331ad4851f04de6915a"
   }
  },
  "widgets": {
   "application/vnd.jupyter.widget-state+json": {
    "state": {},
    "version_major": 2,
    "version_minor": 0
   }
  }
 },
 "nbformat": 4,
 "nbformat_minor": 4
}
